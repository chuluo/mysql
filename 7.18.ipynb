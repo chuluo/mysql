{
 "cells": [
  {
   "cell_type": "markdown",
   "metadata": {},
   "source": [
    "# 选择\n",
    "## 布尔类型、数值和表达式\n",
    "![](../Photo/33.png)\n",
    "- 注意：比较运算符的相等是两个等号，一个等到代表赋值\n",
    "- 在Python中可以用整型0来代表False，其他数字来代表True\n",
    "- 后面还会讲到 is 在判断语句中的用发"
   ]
  },
  {
   "cell_type": "markdown",
   "metadata": {},
   "source": [
    "## 字符串的比较使用ASCII值"
   ]
  },
  {
   "cell_type": "markdown",
   "metadata": {},
   "source": [
    "## Markdown \n",
    "- https://github.com/younghz/Markdown"
   ]
  },
  {
   "cell_type": "markdown",
   "metadata": {},
   "source": [
    "## EP:\n",
    "- <img src=\"../Photo/34.png\"></img>\n",
    "- 输入一个数字，判断其实奇数还是偶数"
   ]
  },
  {
   "cell_type": "code",
   "execution_count": 9,
   "metadata": {},
   "outputs": [
    {
     "name": "stdout",
     "output_type": "stream",
     "text": [
      "numebr;9\n",
      "奇数\n"
     ]
    }
   ],
   "source": [
    "a=eval(input('numebr;'))\n",
    "if a%2 == 0:\n",
    "     print('偶数')\n",
    "else:\n",
    "     print('奇数')"
   ]
  },
  {
   "cell_type": "markdown",
   "metadata": {},
   "source": [
    "## 产生随机数字\n",
    "- 函数random.randint(a,b) 可以用来产生一个a和b之间且包括a和b的随机整数"
   ]
  },
  {
   "cell_type": "markdown",
   "metadata": {},
   "source": [
    "产生一个随机数，你去输入，如果你输入的数大于随机数，那么就告诉你太大了，反之，太小了，\n",
    "然后你一直输入，知道它满意为止"
   ]
  },
  {
   "cell_type": "markdown",
   "metadata": {},
   "source": [
    "##  其他random方法\n",
    "- random.random 返回0.0到1.0之间前闭后开区间的随机浮点\n",
    "- random.randrange(a,b) 前闭后开"
   ]
  },
  {
   "cell_type": "markdown",
   "metadata": {},
   "source": [
    "## EP：\n",
    "- 产生两个随机整数number1和number2，然后显示给用户，使用户输入数字的和，并判定其是否正确\n",
    "- 进阶:写一个随机序号点名程序"
   ]
  },
  {
   "cell_type": "code",
   "execution_count": 7,
   "metadata": {
    "scrolled": true
   },
   "outputs": [
    {
     "name": "stdout",
     "output_type": "stream",
     "text": [
      "please enter a+b ;18\n",
      "false\n",
      "please enter a+b ;18\n",
      "false\n",
      "please enter a+b ;18\n",
      "false\n",
      "please enter a+b ;18\n",
      "false\n",
      "please enter a+b ;18\n",
      "false\n"
     ]
    }
   ],
   "source": [
    "import random\n",
    "a = random.randrange(0,10)\n",
    "b = random.randrange(10,20)\n",
    "for q in range(5):\n",
    "    c = eval(input('please enter a+b ;'))\n",
    "    if c == a+b :\n",
    "        print ('right')\n",
    "        break\n",
    "    else:\n",
    "            print('false')"
   ]
  },
  {
   "cell_type": "code",
   "execution_count": 1,
   "metadata": {},
   "outputs": [
    {
     "name": "stdout",
     "output_type": "stream",
     "text": [
      "please enter a+b ;16\n",
      "false\n",
      "please enter a+b ;16\n",
      "false\n",
      "please enter a+b ;16\n",
      "false\n",
      "please enter a+b ;16\n",
      "false\n",
      "please enter a+b ;16\n",
      "You false,The key is 27\n"
     ]
    }
   ],
   "source": [
    "import random\n",
    "a = random.randrange(0,10)\n",
    "b = random.randrange(10,20)\n",
    "c = eval(input('please enter a+b ;'))\n",
    "if c == a+b :\n",
    "    print ('right')\n",
    "else:\n",
    "    print('false')\n",
    "c = eval(input('please enter a+b ;'))\n",
    "if c == a+b :\n",
    "    print ('right')\n",
    "else:\n",
    "    print('false')\n",
    "c = eval(input('please enter a+b ;'))\n",
    "if c == a+b :\n",
    "    print ('right')\n",
    "else:\n",
    "    print('false')\n",
    "c = eval(input('please enter a+b ;'))\n",
    "if c == a+b :\n",
    "    print ('right')\n",
    "else:\n",
    "    print('false')\n",
    "c = eval(input('please enter a+b ;'))\n",
    "if c == a+b :\n",
    "    print ('right')\n",
    "else:\n",
    "    print('You false,The key is',a+b)\n",
    "    "
   ]
  },
  {
   "cell_type": "markdown",
   "metadata": {},
   "source": [
    "## if语句\n",
    "- 如果条件正确就执行一个单向if语句，亦即当条件为真的时候才执行if内部的语句\n",
    "- Python有很多选择语句:\n",
    "> - 单向if \n",
    "  - 双向if-else\n",
    "  - 嵌套if\n",
    "  - 多向if-elif-else\n",
    "  \n",
    "- 注意：当语句含有子语句的时候，那么一定至少要有一个缩进，也就是说如果有儿子存在，那么一定要缩进\n",
    "- 切记不可tab键和space混用，单用tab 或者 space\n",
    "- 当你输出的结果是无论if是否为真时都需要显示时，语句应该与if对齐"
   ]
  },
  {
   "cell_type": "markdown",
   "metadata": {},
   "source": [
    "## EP：\n",
    "- 用户输入一个数字，判断其实奇数还是偶数\n",
    "- 进阶：可以查看下4.5实例研究猜生日"
   ]
  },
  {
   "cell_type": "markdown",
   "metadata": {},
   "source": [
    "## 双向if-else 语句\n",
    "- 如果条件为真，那么走if内部语句，否则走else内部语句"
   ]
  },
  {
   "cell_type": "code",
   "execution_count": 18,
   "metadata": {},
   "outputs": [
    {
     "name": "stdout",
     "output_type": "stream",
     "text": [
      "money[y/n]y\n",
      "嗯\n",
      "handsome[y/n]y\n",
      "嗯嗯\n",
      "wife[y/n]n\n",
      "QwQ\n"
     ]
    }
   ],
   "source": [
    "money = input('money[y/n]')\n",
    "if money =='y':\n",
    "    print('嗯')\n",
    "    handsome = input('handsome[y/n]')\n",
    "    if handsome == 'y':\n",
    "        print('嗯嗯')\n",
    "        wife = input('wife[y/n]')\n",
    "        if wife == 'y':\n",
    "            print('哦')\n",
    "        else:\n",
    "            print('QwQ')\n",
    "    else:\n",
    "        print('再会')\n",
    "else：\n",
    "    print('Bye')"
   ]
  },
  {
   "cell_type": "markdown",
   "metadata": {},
   "source": [
    "## EP：\n",
    "- 产生两个随机整数number1和number2，然后显示给用户，使用户输入数字，并判定其是否正确,如果正确打印“you‘re correct”，否则打印正确错误"
   ]
  },
  {
   "cell_type": "markdown",
   "metadata": {},
   "source": [
    "## 嵌套if 和多向if-elif-else\n",
    "![](../Photo/35.png)"
   ]
  },
  {
   "cell_type": "markdown",
   "metadata": {},
   "source": [
    "## EP：\n",
    "- 提示用户输入一个年份，然后显示表示这一年的动物\n",
    "![](../Photo/36.png)\n",
    "- 计算身体质量指数的程序\n",
    "- BMI = 以千克为单位的体重除以以米为单位的身高的平方\n",
    "![](../Photo/37.png)"
   ]
  },
  {
   "cell_type": "markdown",
   "metadata": {},
   "source": [
    "## 逻辑运算符\n",
    "![](../Photo/38.png)"
   ]
  },
  {
   "cell_type": "markdown",
   "metadata": {},
   "source": [
    "![](../Photo/39.png)\n",
    "![](../Photo/40.png)"
   ]
  },
  {
   "cell_type": "markdown",
   "metadata": {},
   "source": [
    "## EP：\n",
    "- 判定闰年：一个年份如果能被4整除但不能被100整除，或者能被400整除，那么这个年份就是闰年\n",
    "- 提示用户输入一个年份，并返回是否是闰年\n",
    "- 提示用户输入一个数字，判断其是否为水仙花数"
   ]
  },
  {
   "cell_type": "code",
   "execution_count": 25,
   "metadata": {},
   "outputs": [
    {
     "name": "stdout",
     "output_type": "stream",
     "text": [
      "year2008\n",
      "闰年\n"
     ]
    }
   ],
   "source": [
    "a=eval(input('year'))\n",
    "if (a % 4 == 0 and a%100 != 0) or (a%400==0):\n",
    "    print('闰年')\n",
    "else:\n",
    "    print('平年')"
   ]
  },
  {
   "cell_type": "markdown",
   "metadata": {},
   "source": [
    "## 实例研究：彩票\n",
    "![](../Photo/41.png)"
   ]
  },
  {
   "cell_type": "code",
   "execution_count": 16,
   "metadata": {},
   "outputs": [
    {
     "name": "stdout",
     "output_type": "stream",
     "text": [
      "请输入两位数9,9\n",
      "Thank you for your generosity 6 0\n"
     ]
    }
   ],
   "source": [
    "import random\n",
    "a,b=eval(input('请输入两位数'))\n",
    "c = random.randint(0,9)\n",
    "d = random.randint(0,9)\n",
    "if (a,b) == (c,d):\n",
    "    print('$10000')\n",
    "else:\n",
    "    if (a,b) == (d,c):\n",
    "        print('$3000')\n",
    "    else:\n",
    "        if (a == c) or (a == d) or (b == c) or (b == d):\n",
    "            print('$1000',c,d)\n",
    "        else:\n",
    "             print('Thank you for your generosity',c,d)         "
   ]
  },
  {
   "cell_type": "markdown",
   "metadata": {},
   "source": [
    "# Homework\n",
    "- 1\n",
    "![](../Photo/42.png)"
   ]
  },
  {
   "cell_type": "code",
   "execution_count": 10,
   "metadata": {},
   "outputs": [
    {
     "name": "stdout",
     "output_type": "stream",
     "text": [
      "a,b,c;1,3,1\n",
      "The root are -0.3819660112501051 and -2.618033988749895\n"
     ]
    }
   ],
   "source": [
    "import math\n",
    "a,b,c = eval(input('a,b,c;'))\n",
    "d = b**2-4*a*c\n",
    "e = (-b+(b**2-4*a*c)**0.5)/(2*a)\n",
    "f = (-b-(b**2-4*a*c)**0.5)/(2*a)\n",
    "g = -((2*a)/b)\n",
    "if d>0:\n",
    "    print('The root are',e,'and',f)\n",
    "elif d==0:\n",
    "    print('The root is',g)\n",
    "else:\n",
    "    print('Rhe equation has no real roots')"
   ]
  },
  {
   "cell_type": "markdown",
   "metadata": {},
   "source": [
    "- 2\n",
    "![](../Photo/43.png)"
   ]
  },
  {
   "cell_type": "code",
   "execution_count": 17,
   "metadata": {},
   "outputs": [
    {
     "name": "stdout",
     "output_type": "stream",
     "text": [
      "please enter a+b ;162\n",
      "false 1 25 26\n"
     ]
    }
   ],
   "source": [
    "import random\n",
    "a = random.randint(0,99)\n",
    "b = random.randint(0,99)\n",
    "c = eval(input('please enter a+b ;'))\n",
    "if c == a+b :\n",
    "     print ('right')\n",
    "else:\n",
    "     print('false',a,b,a+b)"
   ]
  },
  {
   "cell_type": "markdown",
   "metadata": {},
   "source": [
    "- 3\n",
    "![](../Photo/44.png)"
   ]
  },
  {
   "cell_type": "code",
   "execution_count": 4,
   "metadata": {},
   "outputs": [
    {
     "name": "stdout",
     "output_type": "stream",
     "text": [
      "请输入星期数字9\n",
      "请输入延期数字31\n",
      "Today is Tuesday ;Future day is Friday\n"
     ]
    }
   ],
   "source": [
    "a=eval(input('请输入星期数字'))\n",
    "b=eval(input('请输入延期数字'))\n",
    "c=a%7\n",
    "d=(a+b)%7\n",
    "if c==0:\n",
    "    td=('Sunday')\n",
    "elif c==1:\n",
    "    td=('Monday')\n",
    "elif c==2:\n",
    "    td=('Tuesday')\n",
    "elif c==3:\n",
    "    td=('Wednesday')\n",
    "elif c==4:\n",
    "    td=('Thursday')\n",
    "elif c==5:\n",
    "    td=('Friday')\n",
    "else:\n",
    "    td=('Saturday')  \n",
    "if d==0:\n",
    "    fd=('Sunday')\n",
    "elif d==1:\n",
    "    fd=('Monday')\n",
    "elif d==2:\n",
    "    fd=('Tuesday')\n",
    "elif d==3:\n",
    "    fd=('Wednesday')\n",
    "elif d==4:\n",
    "    fd=('Thursday')\n",
    "elif d==5:\n",
    "    fd=('Friday')\n",
    "else:\n",
    "    fd=('Saturday')  \n",
    "print('Today is',td,';Future day is',fd)"
   ]
  },
  {
   "cell_type": "markdown",
   "metadata": {},
   "source": [
    "- 4\n",
    "![](../Photo/45.png)"
   ]
  },
  {
   "cell_type": "code",
   "execution_count": 22,
   "metadata": {},
   "outputs": [
    {
     "name": "stdout",
     "output_type": "stream",
     "text": [
      "请输入三个整数888,999,777\n",
      "(777, 888, 999)\n"
     ]
    }
   ],
   "source": [
    "a,b,c=eval(input('请输入三个整数'))\n",
    "if a>=b:\n",
    "    d=(b,a)\n",
    "    if c>=a:\n",
    "        d=(b,a,c)\n",
    "    else:\n",
    "        if c>b:\n",
    "            d=(b,c,a)\n",
    "        else:\n",
    "            d=(c,b,a)\n",
    "else:\n",
    "    d=(a,b)\n",
    "    if c>=b:\n",
    "        d=(a,b,c)\n",
    "    else:\n",
    "        if c>=a:\n",
    "            d=(a,c,b)\n",
    "        else:\n",
    "            d=(c,a,b)\n",
    "print(d)"
   ]
  },
  {
   "cell_type": "markdown",
   "metadata": {},
   "source": [
    "- 5\n",
    "![](../Photo/46.png)"
   ]
  },
  {
   "cell_type": "code",
   "execution_count": 1,
   "metadata": {},
   "outputs": [
    {
     "name": "stdout",
     "output_type": "stream",
     "text": [
      "请输入一重一价二重二价：50,100,50,200\n",
      "('二好', 2.0, 4.0)\n"
     ]
    }
   ],
   "source": [
    "w1,p1,w2,p2=eval(input('请输入一重一价二重二价：'))\n",
    "a=p1/w1\n",
    "b=p2/w2\n",
    "if a>b:\n",
    "    c=('一好',a,b)\n",
    "elif a==b:\n",
    "    c=('重价比相等',a,b)\n",
    "else:\n",
    "    c=('二好',a,b)\n",
    "print(c)"
   ]
  },
  {
   "cell_type": "markdown",
   "metadata": {},
   "source": [
    "- 6\n",
    "![](../Photo/47.png)"
   ]
  },
  {
   "cell_type": "code",
   "execution_count": 2,
   "metadata": {},
   "outputs": [
    {
     "name": "stdout",
     "output_type": "stream",
     "text": [
      "year;2020\n",
      "month;2\n",
      "2020 年 2 月 29 日\n"
     ]
    }
   ],
   "source": [
    "a=eval(input('year;'))\n",
    "b=eval(input('month;'))\n",
    "if (a % 4 == 0 and a%100 != 0) or (a%400==0): \n",
    "    if b==2:\n",
    "        c=('29')\n",
    "    else:\n",
    "        if b == 1 or 3 or 5 or 7 or 9 or 12:\n",
    "            c=('31')\n",
    "        else:\n",
    "            c=('30')\n",
    "else:\n",
    "    if b==2:\n",
    "        c=('28')\n",
    "    else:\n",
    "        if b == 1 or 3 or 5 or 7 or 9 or 12:\n",
    "            c=('31')\n",
    "        else:\n",
    "            c=('30')\n",
    "print(a,'年',b,'月',c,'日')"
   ]
  },
  {
   "cell_type": "markdown",
   "metadata": {},
   "source": [
    "- 7\n",
    "![](../Photo/48.png)"
   ]
  },
  {
   "cell_type": "code",
   "execution_count": 33,
   "metadata": {},
   "outputs": [
    {
     "name": "stdout",
     "output_type": "stream",
     "text": [
      "You guess：0\n",
      "QAQ\n"
     ]
    }
   ],
   "source": [
    "import random\n",
    "a=random.randint(0,1)#正0 反1\n",
    "c=eval(input('You guess：'))\n",
    "if c == a:\n",
    "    print('You win')\n",
    "else:\n",
    "    print('QAQ')#十次赢一次...............................    "
   ]
  },
  {
   "cell_type": "markdown",
   "metadata": {},
   "source": [
    "- 8\n",
    "![](../Photo/49.png)"
   ]
  },
  {
   "cell_type": "code",
   "execution_count": 28,
   "metadata": {},
   "outputs": [
    {
     "name": "stdout",
     "output_type": "stream",
     "text": [
      "剪刀0、石头1、布2、：0\n",
      "平\n"
     ]
    }
   ],
   "source": [
    "import random\n",
    "c=random.randint(0,2)\n",
    "p=eval(input('剪刀0、石头1、布2、：'))\n",
    "if p == 0:\n",
    "    if c == 0:\n",
    "        print('平')\n",
    "    else:\n",
    "        if c == 1:\n",
    "            print('负')\n",
    "        else:\n",
    "            print('胜')\n",
    "else:\n",
    "    if p == 1:\n",
    "        if c == 0:\n",
    "            print('胜')\n",
    "        else:\n",
    "            if c == 1:\n",
    "                print('平')\n",
    "            else:\n",
    "                print('负')\n",
    "    else:\n",
    "        if p == 2:\n",
    "            if c == 0:\n",
    "                print('负')\n",
    "            else:\n",
    "                if c == 1:\n",
    "                    print('胜')\n",
    "                else:\n",
    "                    print('平')\n",
    "        else:\n",
    "            if p != 0 or 1 or 2:\n",
    "                print('He—He——')\n",
    "            "
   ]
  },
  {
   "cell_type": "markdown",
   "metadata": {},
   "source": [
    "- 9\n",
    "![](../Photo/50.png)"
   ]
  },
  {
   "cell_type": "code",
   "execution_count": 1,
   "metadata": {},
   "outputs": [
    {
     "name": "stdout",
     "output_type": "stream",
     "text": [
      "请输入年，月，日：2019,4,30\n",
      "Today is Tuesday\n"
     ]
    }
   ],
   "source": [
    "import math\n",
    "y,m,q=eval(input('请输入年，月，日：'))\n",
    "if m==1:\n",
    "    m=13\n",
    "    y=y-1\n",
    "if m==2:\n",
    "    m=14\n",
    "    y=y-1\n",
    "c=(q+int(26*(m+1)/10)+int(y%100)+int(y%100/4)+int(y/100/4)+int(5*y/100))%7\n",
    "if c==0:\n",
    "    td=('Saturday')  \n",
    "elif c==1:\n",
    "    td=('Sunday')\n",
    "elif c==2:\n",
    "    td=('Monday')\n",
    "elif c==3:\n",
    "    td=('Tuesday')\n",
    "elif c==4:\n",
    "    td=('Wednesday')\n",
    "elif c==5:\n",
    "    td=('Thursday')\n",
    "elif c==6:\n",
    "    td=('Friday')\n",
    "print('Today is',td)\n",
    "\n"
   ]
  },
  {
   "cell_type": "markdown",
   "metadata": {},
   "source": [
    "- 10\n",
    "![](../Photo/51.png)"
   ]
  },
  {
   "cell_type": "code",
   "execution_count": 21,
   "metadata": {},
   "outputs": [
    {
     "name": "stdout",
     "output_type": "stream",
     "text": [
      "The card you picked is the Ace of Spade\n"
     ]
    }
   ],
   "source": [
    "import random\n",
    "n=random.randint(1,13)\n",
    "t=random.randint(1,4)\n",
    "if n == 1:\n",
    "    a=('Ace')\n",
    "elif n ==  2:\n",
    "    a=('2')\n",
    "elif n ==  3:\n",
    "    a=('3')\n",
    "elif n ==  4:\n",
    "    a=('4')\n",
    "elif n ==  5:\n",
    "    a=('5')\n",
    "elif n ==  6:\n",
    "    a=('6')\n",
    "elif n ==  7:\n",
    "    a=('7')\n",
    "elif n ==  8:\n",
    "    a=('8')\n",
    "elif n ==  9:\n",
    "    a=('9')\n",
    "elif n ==  10:\n",
    "    a=('10')\n",
    "elif n ==  11:\n",
    "    a=('Jack')\n",
    "elif n ==  12:\n",
    "    a=('Queen')\n",
    "else:\n",
    "    a=('King')\n",
    "if t == 1:\n",
    "    b=('Club')\n",
    "elif t == 2:\n",
    "    b=('Hearts')\n",
    "elif t == 3:\n",
    "    b=('Diamond')\n",
    "else:\n",
    "    b=('Spade')\n",
    "print('The card you picked is the',a,'of',b)"
   ]
  },
  {
   "cell_type": "markdown",
   "metadata": {},
   "source": [
    "- 11\n",
    "![](../Photo/52.png)"
   ]
  },
  {
   "cell_type": "code",
   "execution_count": 29,
   "metadata": {},
   "outputs": [
    {
     "name": "stdout",
     "output_type": "stream",
     "text": [
      "a,b,c：1,2,3\n",
      "1 2 3 is not a palindrome\n"
     ]
    }
   ],
   "source": [
    "a,b,c=eval(input('a,b,c：'))\n",
    "if a == c:\n",
    "    print(a,b,c,'is a palindrome')\n",
    "else:\n",
    "    print(a,b,c,'is not a palindrome')"
   ]
  },
  {
   "cell_type": "markdown",
   "metadata": {},
   "source": [
    "- 12\n",
    "![](../Photo/53.png)"
   ]
  },
  {
   "cell_type": "code",
   "execution_count": 7,
   "metadata": {},
   "outputs": [
    {
     "name": "stdout",
     "output_type": "stream",
     "text": [
      "a,b,c;1,1,1\n",
      "The perimeter is; 3\n"
     ]
    }
   ],
   "source": [
    "a,b,c=eval(input('a,b,c;'))\n",
    "d=a+b+c\n",
    "if  a+b>c and b+c>a and a+c>b:\n",
    "    print('The perimeter is;',d)\n",
    "else:\n",
    "    print(\"数据非法\")\n"
   ]
  },
  {
   "cell_type": "code",
   "execution_count": null,
   "metadata": {},
   "outputs": [],
   "source": [
    "[进阶]房内100人 每人100块 每分钟随机给另一个人1块 最后这个房间内的财富分布"
   ]
  },
  {
   "cell_type": "code",
   "execution_count": null,
   "metadata": {},
   "outputs": [],
   "source": []
  }
 ],
 "metadata": {
  "kernelspec": {
   "display_name": "Python 3",
   "language": "python",
   "name": "python3"
  },
  "language_info": {
   "codemirror_mode": {
    "name": "ipython",
    "version": 3
   },
   "file_extension": ".py",
   "mimetype": "text/x-python",
   "name": "python",
   "nbconvert_exporter": "python",
   "pygments_lexer": "ipython3",
   "version": "3.7.3"
  }
 },
 "nbformat": 4,
 "nbformat_minor": 2
}
